{
 "cells": [
  {
   "cell_type": "markdown",
   "id": "5f18fb93",
   "metadata": {},
   "source": [
    "# Diabetes and Breast Cancer Classification\n",
   ]
  },
  {
   "cell_type": "markdown",
   "id": "263ea3d5",
   "metadata": {},
   "source": [
    "\n",
    "## 📌 Introduction\n",
    "\n",
    "Steps:  \n",
    "1. Load and explore the data.  \n",
    "2. Preprocess (clean, split, scale).  \n",
    "3. Train and compare models (KNN, SVM, Logistic Regression, Random Forest).  \n",
    "4. Evaluate using metrics (accuracy, precision, recall, F1, ROC-AUC).  \n",
    "5. Visualize performance with ROC curves.  \n",
    "6. Apply to Breast Cancer dataset to show workflow generalization.  \n"
   ]
  },
  {
   "cell_type": "code",
   "execution_count": null,
   "id": "14626d71",
   "metadata": {},
   "outputs": [],
   "source": [
    "# 📦 Import essential libraries for handling data, plotting, and ML models\n",
    "import pandas as pd\n",
    "import numpy as np\n",
    "import matplotlib.pyplot as plt\n",
    "import seaborn as sns\n",
    "from sklearn.model_selection import train_test_split\n",
    "from sklearn.preprocessing import StandardScaler\n",
    "from sklearn.metrics import accuracy_score, precision_score, recall_score, f1_score, confusion_matrix, classification_report, roc_curve, auc, roc_auc_score\n",
    "from sklearn.neighbors import KNeighborsClassifier\n",
    "from sklearn.svm import SVC\n",
    "from sklearn.linear_model import LogisticRegression\n",
    "from sklearn.ensemble import RandomForestClassifier\n",
    "from sklearn.datasets import load_breast_cancer"
   ]
  },
  {
   "cell_type": "code",
   "execution_count": null,
   "id": "46d65faa",
   "metadata": {},
   "outputs": [],
   "source": [
    "# 🔽 Load the diabetes dataset directly from an online source and inspect the first rows\n",
    "url = 'https://raw.githubusercontent.com/plotly/datasets/master/diabetes.csv'\n",
    "df = pd.read_csv(url)\n",
    "print('Shape:', df.shape)\n",
    "print(df.info())\n",
    "print(df.describe().T.head())\n",
    "print('Missing values:\\n', df.isnull().sum())"
   ]
  },
  {
   "cell_type": "code",
   "execution_count": null,
   "id": "eaa85338",
   "metadata": {},
   "outputs": [],
   "source": [
    "# 📊 Correlation heatmap helps to see relationships between features and the outcome\n",
    "plt.figure(figsize=(10,6))\n",
    "sns.heatmap(df.corr(), annot=True, cmap='coolwarm')\n",
    "plt.title('Correlation Heatmap')\n",
    "plt.show()"
   ]
  },
  {
   "cell_type": "code",
   "execution_count": null,
   "id": "cb5af361",
   "metadata": {},
   "outputs": [],
   "source": [
    "# ✂ Split the dataset into training and testing sets and scale features for fair model training\n",
    "X = df.drop('Outcome', axis=1)\n",
    "y = df['Outcome']\n",
    "X_train, X_test, y_train, y_test = train_test_split(X, y, test_size=0.2, random_state=42, stratify=y)\n",
    "scaler = StandardScaler()\n",
    "X_train_scaled = scaler.fit_transform(X_train)\n",
    "X_test_scaled = scaler.transform(X_test)\n",
    "print('Train:', X_train.shape, 'Test:', X_test.shape)"
   ]
  },
  {
   "cell_type": "code",
   "execution_count": null,
   "id": "57f7620d",
   "metadata": {},
   "outputs": [],
   "source": [
    "# ⚙️ Train multiple models, evaluate them, and collect metrics for comparison\n",
    "def evaluate_model(name, model, X_tr, X_te, y_tr, y_te):\n",
    "    model.fit(X_tr, y_tr)\n",
    "    preds = model.predict(X_te)\n",
    "    if hasattr(model,'predict_proba'):\n",
    "        probs = model.predict_proba(X_te)[:,1]\n",
    "    else:\n",
    "        probs = model.decision_function(X_te)\n",
    "    acc = accuracy_score(y_te, preds)\n",
    "    prec = precision_score(y_te, preds)\n",
    "    rec = recall_score(y_te, preds)\n",
    "    f1 = f1_score(y_te, preds)\n",
    "    roc = roc_auc_score(y_te, probs)\n",
    "    print(f'\\n{name} Metrics:\\nAcc:{acc:.3f} Prec:{prec:.3f} Rec:{rec:.3f} F1:{f1:.3f} ROC-AUC:{roc:.3f}')\n",
    "    print('Confusion Matrix:\\n', confusion_matrix(y_te,preds))\n",
    "    return (name, acc, prec, rec, f1, roc)\n",
    "\n",
    "knn = KNeighborsClassifier(n_neighbors=5)\n",
    "svm = SVC(kernel='linear', probability=True, random_state=42)\n",
    "log_reg = LogisticRegression(max_iter=1000)\n",
    "rf = RandomForestClassifier(random_state=42)\n",
    "results = []\n",
    "for name, model in [('KNN',knn),('SVM',svm),('LogReg',log_reg),('RF',rf)]:\n",
    "    results.append(evaluate_model(name, model, X_train_scaled if name!='RF' else X_train,\n",
    "                                  X_test_scaled if name!='RF' else X_test,\n",
    "                                  y_train,y_test))\n",
    "import pandas as pd\n",
    "metrics_df = pd.DataFrame(results, columns=['Model','Accuracy','Precision','Recall','F1','ROC-AUC'])\n",
    "metrics_df"
   ]
  },
  {
   "cell_type": "code",
   "execution_count": null,
   "id": "ff59391a",
   "metadata": {},
   "outputs": [],
   "source": [
    "# 📈 Draw ROC curves for each model to compare their ability to distinguish classes\n",
    "plt.figure(figsize=(8,6))\n",
    "for name, model in [('KNN',knn),('SVM',svm),('LogReg',log_reg),('RF',rf)]:\n",
    "    probs = model.predict_proba(X_test_scaled if name!='RF' else X_test)[:,1]\n",
    "    fpr, tpr, _ = roc_curve(y_test, probs)\n",
    "    plt.plot(fpr,tpr,label=f'{name}')\n",
    "plt.plot([0,1],[0,1],'k--')\n",
    "plt.xlabel('False Positive Rate')\n",
    "plt.ylabel('True Positive Rate')\n",
    "plt.title('ROC Curves - Diabetes')\n",
    "plt.legend()\n",
    "plt.show()"
   ]
  },
  {
   "cell_type": "code",
   "execution_count": null,
   "id": "57478630",
   "metadata": {},
   "outputs": [],
   "source": [
    "# 🧪 Apply the same workflow to the Breast Cancer dataset to test generalizability\n",
    "bc = load_breast_cancer()\n",
    "X_bc = pd.DataFrame(bc.data,columns=bc.feature_names)\n",
    "y_bc = bc.target\n",
    "Xtr_bc,Xte_bc,ytr_bc,yte_bc = train_test_split(X_bc,y_bc,test_size=0.2,random_state=42,stratify=y_bc)\n",
    "sc_bc = StandardScaler()\n",
    "Xtr_bc_s = sc_bc.fit_transform(Xtr_bc)\n",
    "Xte_bc_s = sc_bc.transform(Xte_bc)\n",
    "log_bc = LogisticRegression(max_iter=1000)\n",
    "log_bc.fit(Xtr_bc_s,ytr_bc)\n",
    "ypred_bc = log_bc.predict(Xte_bc_s)\n",
    "print('Breast Cancer Accuracy:', accuracy_score(yte_bc,ypred_bc))"
   ]
  }
 ],
 "metadata": {},
 "nbformat": 4,
 "nbformat_minor": 5
}
